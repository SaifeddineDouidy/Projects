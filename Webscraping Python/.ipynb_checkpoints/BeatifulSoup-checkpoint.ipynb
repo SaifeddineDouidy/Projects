{
 "cells": [
  {
   "cell_type": "code",
   "execution_count": null,
   "id": "b2515364",
   "metadata": {},
   "outputs": [],
   "source": [
    "# When working with beautiulsoup, we have to specify the parser method\n",
    "# It is said that the best methode is lxml\n",
    "from bs4 import BeautifulSoup\n",
    "# How to access the content inside the html file\n",
    "# We have to work with file objects\n",
    "\n",
    "with open(#filename,r(w or a)) as html_file:\n",
    "    content = html_file.read()\n",
    "    # We use BeautifulSoup to work with the tags inside the html file\n",
    "    # to make it easier to scrape by making these tags as python objects\n",
    "    soup = BeautifulSoup(content, 'lxml')\n",
    "    #this next line of code makes it soo the information of the html to be \"prettier\"as in easier to read\n",
    "    print(soup.prettify())\n",
    "    # This next line of code will help us extract specific html tags\n",
    "    # But there is a twist this methode only returns one tag\n",
    "    tag = soup.find('a')\n",
    "    # This line does more it gives a list of the tag you chose to extract\n",
    "    tags = soup.find_all('a') \n",
    "    for ele in tags:\n",
    "        print(ele.text)# This returns only the text inside the tags"
   ]
  },
  {
   "cell_type": "code",
   "execution_count": null,
   "id": "e7ab749a",
   "metadata": {},
   "outputs": [],
   "source": [
    "with open(#filename,'r, w or a') as html_file:\n",
    "    content = html_file.read()\n",
    "    soup = BeautifulSoup(content,'lxml')\n",
    "    # The underscore is used to differentiate between the actual class defined in python prog language and \n",
    "    # between the class of a tag we want to extract data from\n",
    "    info = soup.find_all('div', class_='card')\n",
    "    for ele in info : \n",
    "        # This next line prints every h5 tag in the divs we specified the class of \n",
    "        print(ele.h5)"
   ]
  },
  {
   "cell_type": "code",
   "execution_count": 19,
   "id": "5b74e840",
   "metadata": {},
   "outputs": [
    {
     "name": "stdout",
     "output_type": "stream",
     "text": [
      "/show/436140/education-bag-learning-17.svg\n",
      "https://www.svgrepo.com/show/436140/education-bag-learning-17.svg\n"
     ]
    },
    {
     "ename": "UnidentifiedImageError",
     "evalue": "cannot identify image file 'C:/HTML_CSS_jQuery/images/svg.svg'",
     "output_type": "error",
     "traceback": [
      "\u001b[1;31m---------------------------------------------------------------------------\u001b[0m",
      "\u001b[1;31mUnidentifiedImageError\u001b[0m                    Traceback (most recent call last)",
      "Input \u001b[1;32mIn [19]\u001b[0m, in \u001b[0;36m<cell line: 33>\u001b[1;34m()\u001b[0m\n\u001b[0;32m     29\u001b[0m         r\u001b[38;5;241m.\u001b[39mraw\u001b[38;5;241m.\u001b[39mdecode_content \u001b[38;5;241m=\u001b[39m \u001b[38;5;28;01mTrue\u001b[39;00m\n\u001b[0;32m     30\u001b[0m         shutil\u001b[38;5;241m.\u001b[39mcopyfileobj(r\u001b[38;5;241m.\u001b[39mraw, f)\n\u001b[1;32m---> 33\u001b[0m img \u001b[38;5;241m=\u001b[39m \u001b[43mmpimg\u001b[49m\u001b[38;5;241;43m.\u001b[39;49m\u001b[43mimread\u001b[49m\u001b[43m(\u001b[49m\u001b[38;5;124;43m\"\u001b[39;49m\u001b[38;5;124;43mC:/HTML_CSS_jQuery/images/svg.svg\u001b[39;49m\u001b[38;5;124;43m\"\u001b[39;49m\u001b[43m)\u001b[49m\n\u001b[0;32m     34\u001b[0m imgplot \u001b[38;5;241m=\u001b[39m plt\u001b[38;5;241m.\u001b[39mimshow(img)\n\u001b[0;32m     35\u001b[0m plt\u001b[38;5;241m.\u001b[39mshow()\n",
      "File \u001b[1;32mC:\\ProgramData\\Anaconda3\\lib\\site-packages\\matplotlib\\image.py:1560\u001b[0m, in \u001b[0;36mimread\u001b[1;34m(fname, format)\u001b[0m\n\u001b[0;32m   1558\u001b[0m                 response \u001b[38;5;241m=\u001b[39m io\u001b[38;5;241m.\u001b[39mBytesIO(response\u001b[38;5;241m.\u001b[39mread())\n\u001b[0;32m   1559\u001b[0m             \u001b[38;5;28;01mreturn\u001b[39;00m imread(response, \u001b[38;5;28mformat\u001b[39m\u001b[38;5;241m=\u001b[39mext)\n\u001b[1;32m-> 1560\u001b[0m \u001b[38;5;28;01mwith\u001b[39;00m \u001b[43mimg_open\u001b[49m\u001b[43m(\u001b[49m\u001b[43mfname\u001b[49m\u001b[43m)\u001b[49m \u001b[38;5;28;01mas\u001b[39;00m image:\n\u001b[0;32m   1561\u001b[0m     \u001b[38;5;28;01mreturn\u001b[39;00m (_pil_png_to_float_array(image)\n\u001b[0;32m   1562\u001b[0m             \u001b[38;5;28;01mif\u001b[39;00m \u001b[38;5;28misinstance\u001b[39m(image, PIL\u001b[38;5;241m.\u001b[39mPngImagePlugin\u001b[38;5;241m.\u001b[39mPngImageFile) \u001b[38;5;28;01melse\u001b[39;00m\n\u001b[0;32m   1563\u001b[0m             pil_to_array(image))\n",
      "File \u001b[1;32mC:\\ProgramData\\Anaconda3\\lib\\site-packages\\PIL\\Image.py:3008\u001b[0m, in \u001b[0;36mopen\u001b[1;34m(fp, mode, formats)\u001b[0m\n\u001b[0;32m   3006\u001b[0m \u001b[38;5;28;01mfor\u001b[39;00m message \u001b[38;5;129;01min\u001b[39;00m accept_warnings:\n\u001b[0;32m   3007\u001b[0m     warnings\u001b[38;5;241m.\u001b[39mwarn(message)\n\u001b[1;32m-> 3008\u001b[0m \u001b[38;5;28;01mraise\u001b[39;00m UnidentifiedImageError(\n\u001b[0;32m   3009\u001b[0m     \u001b[38;5;124m\"\u001b[39m\u001b[38;5;124mcannot identify image file \u001b[39m\u001b[38;5;132;01m%r\u001b[39;00m\u001b[38;5;124m\"\u001b[39m \u001b[38;5;241m%\u001b[39m (filename \u001b[38;5;28;01mif\u001b[39;00m filename \u001b[38;5;28;01melse\u001b[39;00m fp)\n\u001b[0;32m   3010\u001b[0m )\n",
      "\u001b[1;31mUnidentifiedImageError\u001b[0m: cannot identify image file 'C:/HTML_CSS_jQuery/images/svg.svg'"
     ]
    }
   ],
   "source": [
    "import requests\n",
    "from bs4 import BeautifulSoup\n",
    "import shutil\n",
    "import matplotlib.pyplot as plt\n",
    "import matplotlib.image as mpimg\n",
    "# This library has alot of uses such as : requesting information from the server\n",
    "html_text = requests.get('https://www.svgrepo.com/vectors/education/').text\n",
    "soup = BeautifulSoup(html_text,'lxml')\n",
    "list_src = []\n",
    "list_img_tag = []\n",
    "images_svg = soup.find('div', class_='style_Node__7ZTBP')\n",
    "example = images_svg.img\n",
    "\n",
    "\n",
    "#for i in images_svg:\n",
    "#    list_img_tag.append(i.img)\n",
    "\n",
    "#for ele in list_img_tag:\n",
    "#    list_src.append(ele['src'])\n",
    "\n",
    "url_base = \"https://www.svgrepo.com\" #Original website\n",
    "url_ext = example.attrs['src'] #The extension you pulled earlier\n",
    "print(url_ext)\n",
    "full_url = url_base + url_ext #Combining first 2 variables to create       a complete URL\n",
    "print(full_url)\n",
    "r = requests.get(full_url, stream=True) #Get request on full_url\n",
    "if r.status_code == 200:                     #200 status code = OK\n",
    "    with open(\"C:/HTML_CSS_jQuery/images/svg.svg\", 'wb') as f: \n",
    "        r.raw.decode_content = True\n",
    "        shutil.copyfileobj(r.raw, f)\n",
    "\n"
   ]
  },
  {
   "cell_type": "code",
   "execution_count": null,
   "id": "ae12441a",
   "metadata": {},
   "outputs": [],
   "source": []
  },
  {
   "cell_type": "code",
   "execution_count": null,
   "id": "4ad1f765",
   "metadata": {},
   "outputs": [],
   "source": []
  },
  {
   "cell_type": "code",
   "execution_count": null,
   "id": "8372202d",
   "metadata": {},
   "outputs": [],
   "source": []
  },
  {
   "cell_type": "code",
   "execution_count": null,
   "id": "90838844",
   "metadata": {},
   "outputs": [],
   "source": []
  },
  {
   "cell_type": "code",
   "execution_count": null,
   "id": "5d894b6c",
   "metadata": {},
   "outputs": [],
   "source": []
  },
  {
   "cell_type": "code",
   "execution_count": null,
   "id": "4bec121a",
   "metadata": {},
   "outputs": [],
   "source": []
  }
 ],
 "metadata": {
  "kernelspec": {
   "display_name": "Python 3 (ipykernel)",
   "language": "python",
   "name": "python3"
  },
  "language_info": {
   "codemirror_mode": {
    "name": "ipython",
    "version": 3
   },
   "file_extension": ".py",
   "mimetype": "text/x-python",
   "name": "python",
   "nbconvert_exporter": "python",
   "pygments_lexer": "ipython3",
   "version": "3.9.12"
  }
 },
 "nbformat": 4,
 "nbformat_minor": 5
}
